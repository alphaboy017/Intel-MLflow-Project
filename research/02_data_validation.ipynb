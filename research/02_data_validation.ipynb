{
 "cells": [
  {
   "cell_type": "code",
   "execution_count": 2,
   "metadata": {},
   "outputs": [],
   "source": [
    "import os"
   ]
  },
  {
   "cell_type": "code",
   "execution_count": 3,
   "metadata": {},
   "outputs": [
    {
     "data": {
      "text/plain": [
       "'d:\\\\Sem_6\\\\6_Intel\\\\00\\\\Intel-MLflow-Project\\\\research'"
      ]
     },
     "execution_count": 3,
     "metadata": {},
     "output_type": "execute_result"
    }
   ],
   "source": [
    "%pwd"
   ]
  },
  {
   "cell_type": "code",
   "execution_count": 4,
   "metadata": {},
   "outputs": [],
   "source": [
    "os.chdir(\"../\")"
   ]
  },
  {
   "cell_type": "code",
   "execution_count": 5,
   "metadata": {},
   "outputs": [
    {
     "data": {
      "text/plain": [
       "'d:\\\\Sem_6\\\\6_Intel\\\\00\\\\Intel-MLflow-Project'"
      ]
     },
     "execution_count": 5,
     "metadata": {},
     "output_type": "execute_result"
    }
   ],
   "source": [
    "%pwd"
   ]
  },
  {
   "cell_type": "code",
   "execution_count": 6,
   "metadata": {},
   "outputs": [],
   "source": [
    "import pandas as pd"
   ]
  },
  {
   "cell_type": "code",
   "execution_count": 21,
   "metadata": {},
   "outputs": [
    {
     "data": {
      "text/html": [
       "<div>\n",
       "<style scoped>\n",
       "    .dataframe tbody tr th:only-of-type {\n",
       "        vertical-align: middle;\n",
       "    }\n",
       "\n",
       "    .dataframe tbody tr th {\n",
       "        vertical-align: top;\n",
       "    }\n",
       "\n",
       "    .dataframe thead th {\n",
       "        text-align: right;\n",
       "    }\n",
       "</style>\n",
       "<table border=\"1\" class=\"dataframe\">\n",
       "  <thead>\n",
       "    <tr style=\"text-align: right;\">\n",
       "      <th></th>\n",
       "      <th>Date</th>\n",
       "      <th>Milk_Supply_Liters</th>\n",
       "      <th>Downtime_Hours</th>\n",
       "      <th>Milk_500ml_Demand</th>\n",
       "      <th>Milk_500ml_Inventory</th>\n",
       "      <th>Milk_1L_Demand</th>\n",
       "      <th>Milk_1L_Inventory</th>\n",
       "      <th>Butter_Demand</th>\n",
       "      <th>Butter_Inventory</th>\n",
       "      <th>Cheese_Demand</th>\n",
       "      <th>Cheese_Inventory</th>\n",
       "      <th>Yogurt_Demand</th>\n",
       "      <th>Yogurt_Inventory</th>\n",
       "    </tr>\n",
       "  </thead>\n",
       "  <tbody>\n",
       "    <tr>\n",
       "      <th>0</th>\n",
       "      <td>2020-01-01</td>\n",
       "      <td>10025</td>\n",
       "      <td>0.40</td>\n",
       "      <td>2137</td>\n",
       "      <td>2677</td>\n",
       "      <td>1891</td>\n",
       "      <td>2256</td>\n",
       "      <td>2816</td>\n",
       "      <td>3386</td>\n",
       "      <td>3523</td>\n",
       "      <td>4055</td>\n",
       "      <td>3989</td>\n",
       "      <td>4738</td>\n",
       "    </tr>\n",
       "    <tr>\n",
       "      <th>1</th>\n",
       "      <td>2020-01-02</td>\n",
       "      <td>10276</td>\n",
       "      <td>0.05</td>\n",
       "      <td>2115</td>\n",
       "      <td>2641</td>\n",
       "      <td>2633</td>\n",
       "      <td>2962</td>\n",
       "      <td>2620</td>\n",
       "      <td>3242</td>\n",
       "      <td>3081</td>\n",
       "      <td>3253</td>\n",
       "      <td>3910</td>\n",
       "      <td>4205</td>\n",
       "    </tr>\n",
       "    <tr>\n",
       "      <th>2</th>\n",
       "      <td>2020-01-03</td>\n",
       "      <td>8487</td>\n",
       "      <td>2.82</td>\n",
       "      <td>1458</td>\n",
       "      <td>2052</td>\n",
       "      <td>2128</td>\n",
       "      <td>2266</td>\n",
       "      <td>3193</td>\n",
       "      <td>3449</td>\n",
       "      <td>2992</td>\n",
       "      <td>3441</td>\n",
       "      <td>4276</td>\n",
       "      <td>4602</td>\n",
       "    </tr>\n",
       "    <tr>\n",
       "      <th>3</th>\n",
       "      <td>2020-01-04</td>\n",
       "      <td>9260</td>\n",
       "      <td>0.59</td>\n",
       "      <td>1684</td>\n",
       "      <td>1827</td>\n",
       "      <td>2689</td>\n",
       "      <td>3319</td>\n",
       "      <td>2871</td>\n",
       "      <td>3480</td>\n",
       "      <td>3419</td>\n",
       "      <td>4252</td>\n",
       "      <td>4262</td>\n",
       "      <td>4811</td>\n",
       "    </tr>\n",
       "    <tr>\n",
       "      <th>4</th>\n",
       "      <td>2020-01-05</td>\n",
       "      <td>9549</td>\n",
       "      <td>1.71</td>\n",
       "      <td>1933</td>\n",
       "      <td>2479</td>\n",
       "      <td>2535</td>\n",
       "      <td>2893</td>\n",
       "      <td>3159</td>\n",
       "      <td>3667</td>\n",
       "      <td>3764</td>\n",
       "      <td>3961</td>\n",
       "      <td>4314</td>\n",
       "      <td>4959</td>\n",
       "    </tr>\n",
       "  </tbody>\n",
       "</table>\n",
       "</div>"
      ],
      "text/plain": [
       "        Date  Milk_Supply_Liters  Downtime_Hours  Milk_500ml_Demand  \\\n",
       "0 2020-01-01               10025            0.40               2137   \n",
       "1 2020-01-02               10276            0.05               2115   \n",
       "2 2020-01-03                8487            2.82               1458   \n",
       "3 2020-01-04                9260            0.59               1684   \n",
       "4 2020-01-05                9549            1.71               1933   \n",
       "\n",
       "   Milk_500ml_Inventory  Milk_1L_Demand  Milk_1L_Inventory  Butter_Demand  \\\n",
       "0                  2677            1891               2256           2816   \n",
       "1                  2641            2633               2962           2620   \n",
       "2                  2052            2128               2266           3193   \n",
       "3                  1827            2689               3319           2871   \n",
       "4                  2479            2535               2893           3159   \n",
       "\n",
       "   Butter_Inventory  Cheese_Demand  Cheese_Inventory  Yogurt_Demand  \\\n",
       "0              3386           3523              4055           3989   \n",
       "1              3242           3081              3253           3910   \n",
       "2              3449           2992              3441           4276   \n",
       "3              3480           3419              4252           4262   \n",
       "4              3667           3764              3961           4314   \n",
       "\n",
       "   Yogurt_Inventory  \n",
       "0              4738  \n",
       "1              4205  \n",
       "2              4602  \n",
       "3              4811  \n",
       "4              4959  "
      ]
     },
     "execution_count": 21,
     "metadata": {},
     "output_type": "execute_result"
    }
   ],
   "source": [
    "# EDA: Load the extracted CSV\n",
    "df = pd.read_csv(\"Dairy_Supply_Demand_20000.csv\", parse_dates=['Date'])\n",
    "# Data type validation\n",
    "schema = {  # Replace with your actual schema loading if needed\n",
    "    'Date': 'datetime64[ns]',\n",
    "    'Milk_Supply_Liters': 'int64',\n",
    "    'Downtime_Hours': 'float64',\n",
    "    'Milk_500ml_Demand': 'int64',\n",
    "    'Milk_500ml_Inventory': 'int64',\n",
    "    'Milk_1L_Demand': 'int64',\n",
    "    'Milk_1L_Inventory': 'int64',\n",
    "    'Butter_Demand': 'int64',\n",
    "    'Butter_Inventory': 'int64',\n",
    "    'Cheese_Demand': 'int64',\n",
    "    'Cheese_Inventory': 'int64',\n",
    "    'Yogurt_Demand': 'int64',\n",
    "    'Yogurt_Inventory': 'int64'\n",
    "}\n",
    "\n",
    "for col, dtype in schema.items():\n",
    "    if col in df.columns:\n",
    "        if str(df[col].dtype) != dtype:\n",
    "            print(f\"Type mismatch for {col}: expected {dtype}, got {df[col].dtype}\")\n",
    "df.head()"
   ]
  },
  {
   "cell_type": "code",
   "execution_count": 22,
   "metadata": {},
   "outputs": [],
   "source": [
    "# Date uniqueness and sorting\n",
    "if not df['Date'].is_monotonic_increasing:\n",
    "    print(\"Warning: Dates are not sorted!\")\n",
    "if df['Date'].duplicated().any():\n",
    "    print(\"Warning: Duplicate dates found!\")"
   ]
  },
  {
   "cell_type": "code",
   "execution_count": 23,
   "metadata": {},
   "outputs": [],
   "source": [
    "# Missing value handling\n",
    "if df.isnull().any().any():\n",
    "    print(\"Missing values detected! Consider handling them before modeling.\")"
   ]
  },
  {
   "cell_type": "code",
   "execution_count": 10,
   "metadata": {},
   "outputs": [
    {
     "name": "stdout",
     "output_type": "stream",
     "text": [
      "<class 'pandas.core.frame.DataFrame'>\n",
      "RangeIndex: 20000 entries, 0 to 19999\n",
      "Data columns (total 13 columns):\n",
      " #   Column                Non-Null Count  Dtype         \n",
      "---  ------                --------------  -----         \n",
      " 0   Date                  20000 non-null  datetime64[ns]\n",
      " 1   Milk_Supply_Liters    20000 non-null  int64         \n",
      " 2   Downtime_Hours        20000 non-null  float64       \n",
      " 3   Milk_500ml_Demand     20000 non-null  int64         \n",
      " 4   Milk_500ml_Inventory  20000 non-null  int64         \n",
      " 5   Milk_1L_Demand        20000 non-null  int64         \n",
      " 6   Milk_1L_Inventory     20000 non-null  int64         \n",
      " 7   Butter_Demand         20000 non-null  int64         \n",
      " 8   Butter_Inventory      20000 non-null  int64         \n",
      " 9   Cheese_Demand         20000 non-null  int64         \n",
      " 10  Cheese_Inventory      20000 non-null  int64         \n",
      " 11  Yogurt_Demand         20000 non-null  int64         \n",
      " 12  Yogurt_Inventory      20000 non-null  int64         \n",
      "dtypes: datetime64[ns](1), float64(1), int64(11)\n",
      "memory usage: 2.0 MB\n"
     ]
    }
   ],
   "source": [
    "df.info()"
   ]
  },
  {
   "cell_type": "code",
   "execution_count": 11,
   "metadata": {},
   "outputs": [
    {
     "data": {
      "text/plain": [
       "Date                    0\n",
       "Milk_Supply_Liters      0\n",
       "Downtime_Hours          0\n",
       "Milk_500ml_Demand       0\n",
       "Milk_500ml_Inventory    0\n",
       "Milk_1L_Demand          0\n",
       "Milk_1L_Inventory       0\n",
       "Butter_Demand           0\n",
       "Butter_Inventory        0\n",
       "Cheese_Demand           0\n",
       "Cheese_Inventory        0\n",
       "Yogurt_Demand           0\n",
       "Yogurt_Inventory        0\n",
       "dtype: int64"
      ]
     },
     "execution_count": 11,
     "metadata": {},
     "output_type": "execute_result"
    }
   ],
   "source": [
    "df.isnull().sum()"
   ]
  },
  {
   "cell_type": "code",
   "execution_count": 12,
   "metadata": {},
   "outputs": [
    {
     "data": {
      "text/plain": [
       "(20000, 13)"
      ]
     },
     "execution_count": 12,
     "metadata": {},
     "output_type": "execute_result"
    }
   ],
   "source": [
    "df.shape"
   ]
  },
  {
   "cell_type": "code",
   "execution_count": 13,
   "metadata": {},
   "outputs": [
    {
     "data": {
      "text/plain": [
       "Index(['Date', 'Milk_Supply_Liters', 'Downtime_Hours', 'Milk_500ml_Demand',\n",
       "       'Milk_500ml_Inventory', 'Milk_1L_Demand', 'Milk_1L_Inventory',\n",
       "       'Butter_Demand', 'Butter_Inventory', 'Cheese_Demand',\n",
       "       'Cheese_Inventory', 'Yogurt_Demand', 'Yogurt_Inventory'],\n",
       "      dtype='object')"
      ]
     },
     "execution_count": 13,
     "metadata": {},
     "output_type": "execute_result"
    }
   ],
   "source": [
    "df.columns"
   ]
  },
  {
   "cell_type": "code",
   "execution_count": 14,
   "metadata": {},
   "outputs": [],
   "source": [
    "from dataclasses import dataclass\n",
    "from pathlib import Path\n",
    "\n",
    "\n",
    "@dataclass(frozen=True)\n",
    "class DataValidationConfig:\n",
    "    root_dir: Path\n",
    "    STATUS_FILE: str\n",
    "    unzip_data_dir: Path\n",
    "    all_schema: dict"
   ]
  },
  {
   "cell_type": "code",
   "execution_count": 15,
   "metadata": {},
   "outputs": [],
   "source": [
    "from MLproject.constants import *\n",
    "from MLproject.utils.common import read_yaml, create_directories"
   ]
  },
  {
   "cell_type": "code",
   "execution_count": 16,
   "metadata": {},
   "outputs": [],
   "source": [
    "class ConfigurationManager:\n",
    "    def __init__(\n",
    "        self,\n",
    "        config_filepath = CONFIG_FILE_PATH,\n",
    "        params_filepath = PARAMS_FILE_PATH,\n",
    "        schema_filepath = SCHEMA_FILE_PATH):\n",
    "\n",
    "        self.config = read_yaml(config_filepath)\n",
    "        self.params = read_yaml(params_filepath)\n",
    "        self.schema = read_yaml(schema_filepath)\n",
    "\n",
    "        create_directories([self.config.artifacts_root])\n",
    "\n",
    "\n",
    "    \n",
    "    def get_data_validation_config(self) -> DataValidationConfig:\n",
    "        config = self.config.data_validation\n",
    "        schema = self.schema.COLUMNS\n",
    "\n",
    "        create_directories([config.root_dir])\n",
    "\n",
    "        data_validation_config = DataValidationConfig(\n",
    "            root_dir=config.root_dir,\n",
    "            STATUS_FILE=config.STATUS_FILE,\n",
    "            unzip_data_dir = config.unzip_data_dir,\n",
    "            all_schema=schema,\n",
    "        )\n",
    "\n",
    "        return data_validation_config"
   ]
  },
  {
   "cell_type": "code",
   "execution_count": 17,
   "metadata": {},
   "outputs": [],
   "source": [
    "import os\n",
    "from MLproject import logger"
   ]
  },
  {
   "cell_type": "code",
   "execution_count": 24,
   "metadata": {},
   "outputs": [],
   "source": [
    "class DataValiadtion:\n",
    "    def __init__(self, config: DataValidationConfig):\n",
    "        self.config = config\n",
    "\n",
    "    def validate_all_columns(self) -> bool:\n",
    "        try:\n",
    "            validation_status = True\n",
    "            data = pd.read_csv(self.config.unzip_data_dir, parse_dates=['Date'])\n",
    "            all_cols = list(data.columns)\n",
    "            all_schema = self.config.all_schema\n",
    "\n",
    "            # 1. Column name check\n",
    "            for col in all_cols:\n",
    "                if col not in all_schema:\n",
    "                    print(f\"Unexpected column: {col}\")\n",
    "                    validation_status = False\n",
    "\n",
    "            for col in all_schema:\n",
    "                if col not in all_cols:\n",
    "                    print(f\"Missing column: {col}\")\n",
    "                    validation_status = False\n",
    "\n",
    "            # 2. Data type check\n",
    "            for col, dtype in all_schema.items():\n",
    "                if col in data.columns:\n",
    "                    if str(data[col].dtype) != dtype:\n",
    "                        print(f\"Type mismatch for {col}: expected {dtype}, got {data[col].dtype}\")\n",
    "                        validation_status = False\n",
    "\n",
    "            # 3. Non-negative value check\n",
    "            for col in [\n",
    "                'Milk_Supply_Liters', 'Milk_500ml_Demand', 'Milk_500ml_Inventory',\n",
    "                'Milk_1L_Demand', 'Milk_1L_Inventory', 'Butter_Demand', 'Butter_Inventory',\n",
    "                'Cheese_Demand', 'Cheese_Inventory', 'Yogurt_Demand', 'Yogurt_Inventory'\n",
    "            ]:\n",
    "                if col in data.columns and (data[col] < 0).any():\n",
    "                    print(f\"Negative values found in {col}\")\n",
    "                    validation_status = False\n",
    "\n",
    "            # 4. Outlier detection (simple: values beyond 3 std devs)\n",
    "            for col in [\n",
    "                'Milk_Supply_Liters', 'Downtime_Hours', 'Milk_500ml_Demand', 'Milk_1L_Demand',\n",
    "                'Butter_Demand', 'Cheese_Demand', 'Yogurt_Demand'\n",
    "            ]:\n",
    "                if col in data.columns:\n",
    "                    outliers = data[(data[col] - data[col].mean()).abs() > 3 * data[col].std()]\n",
    "                    if not outliers.empty:\n",
    "                        print(f\"Outliers detected in {col}: {len(outliers)} rows\")\n",
    "\n",
    "            # 5. Date uniqueness and sorting\n",
    "            if 'Date' in data.columns:\n",
    "                if not data['Date'].is_monotonic_increasing:\n",
    "                    print(\"Warning: Dates are not sorted!\")\n",
    "                    validation_status = False\n",
    "                if data['Date'].duplicated().any():\n",
    "                    print(\"Warning: Duplicate dates found!\")\n",
    "                    validation_status = False\n",
    "\n",
    "            # 6. Missing value check\n",
    "            if data.isnull().any().any():\n",
    "                print(\"Missing values detected! Consider handling them before modeling.\")\n",
    "                validation_status = False\n",
    "\n",
    "            # Write status to file\n",
    "            with open(self.config.STATUS_FILE, 'w') as f:\n",
    "                f.write(f\"Validation status: {validation_status}\")\n",
    "\n",
    "            return validation_status\n",
    "\n",
    "        except Exception as e:\n",
    "            raise e"
   ]
  },
  {
   "cell_type": "code",
   "execution_count": 20,
   "metadata": {},
   "outputs": [
    {
     "name": "stdout",
     "output_type": "stream",
     "text": [
      "[2025-07-03 00:52:59,667: INFO: common: yaml file: config\\config.yaml loaded successfully]\n",
      "[2025-07-03 00:52:59,672: INFO: common: yaml file: params.yaml loaded successfully]\n",
      "[2025-07-03 00:52:59,673: INFO: common: yaml file: schema.yaml loaded successfully]\n",
      "[2025-07-03 00:52:59,675: INFO: common: created directory at: artifacts]\n",
      "[2025-07-03 00:52:59,676: INFO: common: created directory at: artifacts/data_validation]\n"
     ]
    }
   ],
   "source": [
    "try:\n",
    "    config = ConfigurationManager()\n",
    "    data_validation_config = config.get_data_validation_config()\n",
    "    data_validation = DataValiadtion(config=data_validation_config)\n",
    "    data_validation.validate_all_columns()\n",
    "except Exception as e:\n",
    "    raise e"
   ]
  },
  {
   "cell_type": "code",
   "execution_count": null,
   "metadata": {},
   "outputs": [],
   "source": []
  }
 ],
 "metadata": {
  "kernelspec": {
   "display_name": "Python 3",
   "language": "python",
   "name": "python3"
  },
  "language_info": {
   "codemirror_mode": {
    "name": "ipython",
    "version": 3
   },
   "file_extension": ".py",
   "mimetype": "text/x-python",
   "name": "python",
   "nbconvert_exporter": "python",
   "pygments_lexer": "ipython3",
   "version": "3.11.5"
  },
  "orig_nbformat": 4
 },
 "nbformat": 4,
 "nbformat_minor": 2
}
